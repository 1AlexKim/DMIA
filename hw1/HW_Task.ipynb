{
 "cells": [
  {
   "cell_type": "markdown",
   "metadata": {},
   "source": [
    "### Входные данные\n",
    "\n",
    "У вас имеется поток данных (генератор data_stream). Поля это случайные величины - так сделано для упрощения генерации данных. Есть три поля (названы по уровню сложности задания)\n",
    "\n",
    "### Задание\n",
    "##### Мотивация:\n",
    "У вас есть куча временных рядов, вы хотите научиться предсказывать следующее значение по 1000 предыдущим. 1000 признаков окна это слишком много, однако вы решили заменить их 5ю: средним, дисперсией, минимумом, медианой и максимумом. Однако, все эти признаки надо подсчитать, причём хочется уметь это делать быстро (в течение часа)\n",
    "##### Для каждого поля нужно сделать следующее:\n",
    "\n",
    "1. Пробежаться по данным окном размера 1000 (окно сдвигается на 1, то есть следующее окно пересекается с предыдущим по 999 элементам).\n",
    "\n",
    "2. Для каждого окна посчитайте среднее значение поля и его дисперсию. Делайте yield этих значений, получая генератор tuple. \n",
    "\n",
    "3. Для каждого окна найдине минимум, медиану и максимум в нём. Делайте yield этих значений, получая генератор tuple. \n",
    "\n",
    "Ответом, который нужно будет засабмитить в гугл форму, является среднее значение tuple по получившемуся потоку, округлённое до 2го знака.\n",
    "\n",
    "### Замечания\n",
    "\n",
    "1. Обратите внимания как генерируются поля. Постарайтесь понять особенность каждого поля и как это можно использовать. Желательно, чтобы для каждого поля у вас было своё решение, максимально эффективно использующее знание об этом поле.\n",
    "2. Полезные библиотеки: itertools, numpy, collections + всё что найдёте в интернете и можно поставить через pip install\n",
    "3. **Медианой отсортированного массива arr считайте значение arr[len(arr) // 2]**\n",
    "\n",
    "\n",
    "\n",
    "Если измерять время работы функций временем работы функции example, то примерное время работы такое:\n",
    "Одновременно среднее, дисперсия - 1.17\n",
    "Одновременно минимум, максимум и медиана:easy - 0.87\n",
    "medium - 2.11\n",
    "nightmare - 2.85\n"
   ]
  },
  {
   "cell_type": "markdown",
   "metadata": {},
   "source": [
    "#### Генерация данных"
   ]
  },
  {
   "cell_type": "code",
   "execution_count": 3,
   "metadata": {
    "ExecuteTime": {
     "end_time": "2018-03-02T11:42:27.465687Z",
     "start_time": "2018-03-02T11:42:27.420627Z"
    },
    "collapsed": true
   },
   "outputs": [],
   "source": [
    "from collections import namedtuple, deque\n",
    "import random\n",
    "from bisect import insort\n",
    "import pandas as pd\n",
    "import numpy as np\n",
    "\n",
    "Record = namedtuple('Record', 'easy medium nightmare')\n",
    "\n",
    "def data_stream():\n",
    "    random_generator = random.Random(42)\n",
    "    easy = 0\n",
    "    for _ in range(10000000):#10000000\n",
    "        easy += random_generator.randint(0, 2) \n",
    "        medium = random_generator.randint(0, 256 - 1)\n",
    "        nightmare = random_generator.randint(0, 1000000000 - 1)\n",
    "        \n",
    "        yield Record(\n",
    "            easy=easy,\n",
    "            medium=medium,\n",
    "            nightmare=nightmare\n",
    "        )\n",
    "        \n",
    "def easy_stream():\n",
    "    for record in data_stream():\n",
    "        yield record.easy\n",
    "        \n",
    "def medium_stream():\n",
    "    for record in data_stream():\n",
    "        yield record.medium\n",
    "        \n",
    "def nightmare_stream():\n",
    "    for record in data_stream():\n",
    "        yield record.nightmare"
   ]
  },
  {
   "cell_type": "markdown",
   "metadata": {},
   "source": [
    "# Среднее + дисперсия + мин + медиана + макс для nightmare_stream()"
   ]
  },
  {
   "cell_type": "code",
   "execution_count": 4,
   "metadata": {
    "ExecuteTime": {
     "end_time": "2018-03-02T11:50:31.430773Z",
     "start_time": "2018-03-02T11:42:30.319127Z"
    },
    "scrolled": false
   },
   "outputs": [
    {
     "name": "stdout",
     "output_type": "stream",
     "text": [
      "mean [499880345.8782329]\n",
      "дисперсия 83228908564031114.58817449053\n",
      "min: 1017512.2936084315\n",
      "медиана 500438415.6358754\n",
      "max: 999017359.9740516\n"
     ]
    }
   ],
   "source": [
    "from decimal import *\n",
    "getcontext().prec = 28\n",
    "a = nightmare_stream()\n",
    "a1 = nightmare_stream()\n",
    "count = 0.\n",
    "nightmare_result = np.zeros(6, dtype='object')\n",
    "nightmare_var = np.zeros(1, dtype='object')\n",
    "nightmare_mean = np.zeros(1, dtype='object')\n",
    "nightmare_median = []\n",
    "for j in a:\n",
    "    insort(nightmare_median, j)\n",
    "    nightmare_mean += (j)#Decimal\n",
    "    nightmare_var += (j)**2#Decimal\n",
    "    count+=1\n",
    "    if count==999: break\n",
    "for j in a:\n",
    "    insort(nightmare_median, j)\n",
    "#     print('inter_median', median)\n",
    "    nightmare_mean += (j)#Decimal\n",
    "    nightmare_var += (j)**2#Decimal\n",
    "    count+=1\n",
    "#     print('med',median[1])\n",
    "    nightmare_result[3] += nightmare_median[500]\n",
    "    nightmare_result[2] += nightmare_median[0]\n",
    "    nightmare_result[4] += nightmare_median[-1]\n",
    "    nightmare_result[0] += nightmare_mean#/1000\n",
    "    nightmare_result[1] += nightmare_var#nightmare_result[1] += 1000*nightmare_var - (nightmare_mean)**2\n",
    "    nightmare_result[5] += Decimal(nightmare_mean[0])**2\n",
    "    for i in a1:\n",
    "        nightmare_median.remove(i)\n",
    "        nightmare_mean -= (i)#Decimal\n",
    "        nightmare_var -= (i)**2#Decimal\n",
    "        break\n",
    "nightmare_result[1] =  Decimal(nightmare_result[1][0])/1000 - Decimal(nightmare_result[5])/1000000      \n",
    "nightmare_result[0] /= 1000*(10000000-1000+1)\n",
    "nightmare_result[1] /= (10000000-1000+1)#1000000*\n",
    "nightmare_result[2] /= (10000000-1000+1)\n",
    "nightmare_result[3] /= (10000000-1000+1)\n",
    "nightmare_result[4] /= (10000000-1000+1)\n",
    "print('mean',nightmare_result[0])\n",
    "print('дисперсия',(nightmare_result[1]))\n",
    "print('min:',nightmare_result[2])\n",
    "print('медиана',nightmare_result[3])\n",
    "print('max:',nightmare_result[4])"
   ]
  },
  {
   "cell_type": "markdown",
   "metadata": {},
   "source": [
    "# Среднее + дисперсия + мин + медиана + макс для medium_stream()"
   ]
  },
  {
   "cell_type": "code",
   "execution_count": 709,
   "metadata": {
    "ExecuteTime": {
     "end_time": "2018-03-02T10:55:07.834421Z",
     "start_time": "2018-03-02T10:49:09.728566Z"
    }
   },
   "outputs": [
    {
     "name": "stdout",
     "output_type": "stream",
     "text": [
      "mean 127.48113997058306\n",
      "дисперсия 5455.173897874811393658226457\n",
      "min: 0.019289827053722668\n",
      "медиана 127.60172041186915\n",
      "max: 254.97901320341902\n"
     ]
    }
   ],
   "source": [
    "a = medium_stream()\n",
    "a1 = medium_stream()\n",
    "count = 0.\n",
    "medium_result = np.zeros(6, dtype='object')\n",
    "medium_mean_var = np.zeros(2, dtype='object')\n",
    "medium_median = []\n",
    "for j in a:\n",
    "    insort(medium_median, j)\n",
    "    medium_mean_var += (j,j**2)\n",
    "    count+=1\n",
    "    if count==999: break\n",
    "for j in a:\n",
    "    insort(medium_median, j)\n",
    "    medium_mean_var += (j,j**2)\n",
    "    count+=1\n",
    "    medium_result[3] += medium_median[500]\n",
    "    medium_result[2] += medium_median[0]\n",
    "    medium_result[4] += medium_median[-1]\n",
    "    medium_result[0] += medium_mean_var[0]\n",
    "    medium_result[1] += medium_mean_var[1]\n",
    "    medium_result[5] += (medium_mean_var[0])**2\n",
    "    for i in a1:\n",
    "        medium_median.remove(i)\n",
    "        medium_mean_var -= (i,i**2)\n",
    "        break\n",
    "medium_result[1] =  Decimal(medium_result[1])/1000 - Decimal(medium_result[5])/1000000      \n",
    "medium_result[0] /= 1000*(10000000-1000+1)\n",
    "medium_result[1] /= (10000000-1000+1)\n",
    "medium_result[2] /= (10000000-1000+1)\n",
    "medium_result[3] /= (10000000-1000+1)\n",
    "medium_result[4] /= (10000000-1000+1)\n",
    "print('mean',medium_result[0])\n",
    "print('дисперсия',(medium_result[1]))\n",
    "print('min:',medium_result[2])\n",
    "print('медиана',medium_result[3])\n",
    "print('max:',medium_result[4])"
   ]
  },
  {
   "cell_type": "markdown",
   "metadata": {},
   "source": [
    "# Среднее + дисперсия + мин + медиана + макс для easy_stream()"
   ]
  },
  {
   "cell_type": "code",
   "execution_count": 719,
   "metadata": {
    "ExecuteTime": {
     "end_time": "2018-03-02T11:11:19.245466Z",
     "start_time": "2018-03-02T11:06:31.635561Z"
    }
   },
   "outputs": [
    {
     "name": "stdout",
     "output_type": "stream",
     "text": [
      "mean 4999675.276494781\n",
      "дисперсия 83439.34015968195\n",
      "min: 4999175.792842705\n",
      "медиана 4999675.776641486\n",
      "max: 5000174.759596184\n"
     ]
    }
   ],
   "source": [
    "a = easy_stream()\n",
    "a1 = easy_stream()\n",
    "count = 0.\n",
    "easy_result = np.zeros(6, dtype='object')\n",
    "easy_mean_var = np.zeros(2, dtype='object')\n",
    "easy_median = deque(maxlen=1000)\n",
    "for j in a:\n",
    "    easy_mean_var += (j,j**2)\n",
    "    easy_median.append(j)\n",
    "    count+=1\n",
    "    if count>=1000:\n",
    "        easy_result[3] += easy_median[500]\n",
    "        easy_result[2] += easy_median[0]\n",
    "        easy_result[4] += easy_median[-1]\n",
    "        easy_result[0] += easy_mean_var[0]\n",
    "        easy_result[1] += easy_mean_var[1]\n",
    "        easy_result[5] += (easy_mean_var[0])**2\n",
    "        for i in a1:\n",
    "            easy_mean_var -= (i,i**2)\n",
    "            break\n",
    "easy_result[1] =  (easy_result[1])/1000 - (easy_result[5])/1000000      \n",
    "easy_result[0] /= 1000*(10000000-1000+1)\n",
    "easy_result[1] /= (10000000-1000+1)\n",
    "easy_result[2] /= (10000000-1000+1)\n",
    "easy_result[3] /= (10000000-1000+1)\n",
    "easy_result[4] /= (10000000-1000+1)\n",
    "print('mean',easy_result[0])\n",
    "print('дисперсия',(easy_result[1]))\n",
    "print('min:',easy_result[2])\n",
    "print('медиана',easy_result[3])\n",
    "print('max:',easy_result[4])"
   ]
  },
  {
   "cell_type": "markdown",
   "metadata": {
    "ExecuteTime": {
     "end_time": "2018-02-25T12:49:05.555985Z",
     "start_time": "2018-02-25T12:49:05.549415Z"
    }
   },
   "source": [
    "## Очень долгий расчет дисперсии и среднего\n",
    "# настолько долго, что и запускать не стоит"
   ]
  },
  {
   "cell_type": "code",
   "execution_count": null,
   "metadata": {
    "ExecuteTime": {
     "end_time": "2018-03-02T10:44:45.391086Z",
     "start_time": "2018-03-02T10:39:12.952Z"
    },
    "collapsed": true,
    "scrolled": true
   },
   "outputs": [],
   "source": [
    "# stream = nightmare_stream()\n",
    "# d = deque(maxlen=1000)\n",
    "# mean_list = []\n",
    "# var_list = []\n",
    "# count = 0\n",
    "# for i in stream:\n",
    "#     d.append(Decimal(i))\n",
    "#     count += 1\n",
    "#     if count == 999: break\n",
    "# for i in stream:\n",
    "#     d.append(Decimal(i))\n",
    "#     count += 1\n",
    "#     mean_list.append(np.mean(d))\n",
    "#     var_list.append(np.var(d))\n",
    "# print('mean:','{:0.2f}'.format(np.mean(mean_list)))\n",
    "# print('var:','{:0.2f}'.format(np.mean(var_list)))"
   ]
  }
 ],
 "metadata": {
  "kernelspec": {
   "display_name": "Python 3",
   "language": "python",
   "name": "python3"
  },
  "language_info": {
   "codemirror_mode": {
    "name": "ipython",
    "version": 3
   },
   "file_extension": ".py",
   "mimetype": "text/x-python",
   "name": "python",
   "nbconvert_exporter": "python",
   "pygments_lexer": "ipython3",
   "version": "3.5.4"
  }
 },
 "nbformat": 4,
 "nbformat_minor": 1
}
